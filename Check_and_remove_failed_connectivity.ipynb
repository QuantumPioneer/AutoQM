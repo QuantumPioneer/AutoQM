{
 "cells": [
  {
   "cell_type": "code",
   "execution_count": null,
   "metadata": {},
   "outputs": [],
   "source": [
    "import pickle as pkl\n",
    "import shutil\n",
    "import os\n",
    "\n",
    "with open(\"reactants_products_sep1a_filtered_dft_opted_results.pkl\", \"rb\") as f:\n",
    "    results = pkl.load(f)\n",
    "\n",
    "for failed_dict, success_dict in results:\n",
    "    if failed_dict:\n",
    "        for mol_id in failed_dict:\n",
    "            ids = str(int(int(mol_id.split(\"id\")[1])/1000))\n",
    "            if os.path.exists(os.path.join(\"output\", \"FF_conf\", \"outputs\", f\"outputs_{ids}\", f\"{mol_id}_confs.sdf\")):\n",
    "#                 pass\n",
    "                os.remove(os.path.join(\"output\", \"FF_conf\", \"outputs\", f\"outputs_{ids}\", f\"{mol_id}_confs.sdf\"))\n",
    "            if os.path.exists(os.path.join(\"output\", \"semiempirical_opt\", \"outputs\", f\"outputs_{ids}\", f\"{mol_id}.tar\")):\n",
    "#                 pass\n",
    "                os.remove(os.path.join(\"output\", \"semiempirical_opt\", \"outputs\", f\"outputs_{ids}\", f\"{mol_id}.tar\"))\n",
    "            if os.path.exists(os.path.join(\"output\", \"DFT_opt_freq\", \"outputs\", f\"outputs_{ids}\", f\"{mol_id}.log\")):\n",
    "#                 pass\n",
    "                os.remove(os.path.join(\"output\", \"DFT_opt_freq\", \"outputs\", f\"outputs_{ids}\", f\"{mol_id}.log\"))\n",
    "            if os.path.exists(os.path.join(\"output\", \"DLPNO_sp\", \"outputs\", f\"outputs_{ids}\", f\"{mol_id}.log\")):\n",
    "#                 pass\n",
    "                os.remove(os.path.join(\"output\", \"DLPNO_sp\", \"outputs\", f\"outputs_{ids}\", f\"{mol_id}.log\"))\n",
    "            if os.path.exists(os.path.join(\"output\", \"DLPNO_sp\", \"inputs\", f\"inputs_{ids}\", f\"{mol_id}.in\")):\n",
    "#                 pass\n",
    "                os.remove(os.path.join(\"output\", \"DLPNO_sp\", \"inputs\", f\"inputs_{ids}\", f\"{mol_id}.in\"))\n",
    "            if os.path.exists(os.path.join(\"output\", \"COSMO_calc\", \"outputs\", f\"outputs_{ids}\", f\"{mol_id}.tar\")):\n",
    "#                 pass\n",
    "                os.remove(os.path.join(\"output\", \"COSMO_calc\", \"outputs\", f\"outputs_{ids}\", f\"{mol_id}.tar\"))\n",
    "            if os.path.exists(os.path.join(\"output\", \"COSMO_calc\", \"outputs\", f\"outputs_{ids}\", mol_id)):\n",
    "#                 pass\n",
    "                shutil.rmtree(os.path.join(\"output\", \"COSMO_calc\", \"outputs\", f\"outputs_{ids}\", mol_id))\n",
    "        \n",
    "            \n",
    "        \n",
    "\n",
    "sum(1 for failed_dict, success_dict in results if failed_dict)"
   ]
  }
 ],
 "metadata": {
  "language_info": {
   "name": "python"
  },
  "orig_nbformat": 4
 },
 "nbformat": 4,
 "nbformat_minor": 2
}
