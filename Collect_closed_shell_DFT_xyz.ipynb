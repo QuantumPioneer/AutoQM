{
 "cells": [
  {
   "cell_type": "code",
   "execution_count": null,
   "metadata": {},
   "outputs": [],
   "source": [
    "import pickle as pkl\n",
    "import pandas as pd\n",
    "\n",
    "with open(\"/home/gridsan/hwpang/RMG_shared/Projects/Hao-Wei-Oscar/closed_shell_dft_xyz/closed_shell_dft_xyz.pkl\", \"rb\") as f:\n",
    "    previous = pkl.load(f)\n",
    "\n",
    "new = dict()\n",
    "\n",
    "df_smiles = pd.read_csv(\"./aug11b/reactants_products_wb97xd_and_xtb_opted_ts_combo_results_hashed_chart_aug11b.csv\",\n",
    "                        index_col=0)\n",
    "\n",
    "with open(\"./aug11b/reactants_products_aug11b_dft_opted_results_xyz.pkl\", \"rb\") as f:\n",
    "    xyz_DFT_dict = pkl.load(f)\n",
    "\n",
    "smis = list(df_smiles[\"smiles\"])\n",
    "spins = list(df_smiles[\"spin\"])\n",
    "mol_ids = list(df_smiles[\"id\"])\n",
    "\n",
    "for smi, spin, mol_id in zip(smis, spins, mol_ids):\n",
    "    if spin == 1:\n",
    "        if mol_id in xyz_DFT_dict:\n",
    "            if smi not in previous:\n",
    "                new[smi] = xyz_DFT_dict[mol_id]\n",
    "            else:\n",
    "                if previous[smi] != xyz_DFT_dict[mol_id]:\n",
    "                    new[smi] = xyz_DFT_dict[mol_id]\n",
    "                    \n",
    "print(len(new))\n",
    "                    \n",
    "df_smiles = pd.read_csv(\"./sep1a/reactants_products_wb97xd_and_xtb_opted_ts_combo_results_hashed_lookup_table_sep1a_filtered.csv\",\n",
    "                        index_col=0)\n",
    "\n",
    "with open(\"./sep1a/reactants_products_sep1a_filtered_dft_opted_results_xyz.pkl\", \"rb\") as f:\n",
    "    xyz_DFT_dict = pkl.load(f)\n",
    "\n",
    "smis = list(df_smiles[\"smiles\"])\n",
    "spins = list(df_smiles[\"spin\"])\n",
    "mol_ids = list(df_smiles[\"id\"])\n",
    "\n",
    "for smi, spin, mol_id in zip(smis, spins, mol_ids):\n",
    "    if spin == 1:\n",
    "        if mol_id in xyz_DFT_dict:\n",
    "            if smi not in previous:\n",
    "                new[smi] = xyz_DFT_dict[mol_id]\n",
    "            else:\n",
    "                if previous[smi] != xyz_DFT_dict[mol_id]:\n",
    "                    new[smi] = xyz_DFT_dict[mol_id]\n",
    "\n",
    "print(len(new))\n",
    "\n"
   ]
  }
 ],
 "metadata": {
  "kernelspec": {
   "display_name": "Python 3.7.12 ('rmg_env')",
   "language": "python",
   "name": "python3"
  },
  "language_info": {
   "name": "python",
   "version": "3.7.12"
  },
  "orig_nbformat": 4,
  "vscode": {
   "interpreter": {
    "hash": "82761da83f752d6d01d275ccdad879adc85789f0250ddd5314c71e648cd6cabb"
   }
  }
 },
 "nbformat": 4,
 "nbformat_minor": 2
}
